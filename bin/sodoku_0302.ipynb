{
 "cells": [
  {
   "cell_type": "code",
   "execution_count": 34,
   "metadata": {
    "collapsed": true
   },
   "outputs": [],
   "source": [
    "import numpy as np\n",
    "import sys\n",
    "import csv"
   ]
  },
  {
   "cell_type": "code",
   "execution_count": 31,
   "metadata": {
    "collapsed": true
   },
   "outputs": [],
   "source": [
    "def import_puzzle(i=1):\n",
    "    \"\"\"\n",
    "    This function is to import the puzzle saved in suduku.csv\n",
    "    i: the number of puzzles. range in 1 to 1,000,000.\n",
    "    \"\"\"\n",
    "#     quizzes = np.zeros((1, 81), np.int32)\n",
    "#     solutions = np.zeros((1, 81), np.int32)\n",
    "    for line in enumerate(open('sudoku.csv', 'r').read().splitlines()[i:i+1]):\n",
    "#         quiz, solution = line.split(\",\")\n",
    "        quiz = line[0]\n",
    "        solution = line[1]\n",
    "#     quizzes = quizzes.reshape((-1, 9, 9))\n",
    "#     solutions = solutions.reshape((-1, 9, 9))\n",
    "    return quiz, solution"
   ]
  },
  {
   "cell_type": "code",
   "execution_count": null,
   "metadata": {
    "collapsed": true
   },
   "outputs": [],
   "source": [
    "i=1\n",
    "for line in enumerate(open('sudoku.csv', 'r').read().splitlines()[i:i+1])"
   ]
  },
  {
   "cell_type": "code",
   "execution_count": 35,
   "metadata": {},
   "outputs": [],
   "source": [
    "with open('sudoku.csv') as fd:\n",
    "    reader=csv.reader(fd)\n",
    "    interestingrows=[row for idx, row in enumerate(reader) if idx in (28,62)]"
   ]
  },
  {
   "cell_type": "code",
   "execution_count": 36,
   "metadata": {},
   "outputs": [
    {
     "name": "stdout",
     "output_type": "stream",
     "text": [
      "[['900084060604005207030070080760001500053000001000409603105026090002040000800003710', '927384165684915237531672489769231548453768921218459673175826394392147856846593712'], ['507108002000043100900500006070050004100002069600700380320490000001006400009070528', '537168942286943157914527836873659214145832769692714385328495671751286493469371528']]\n"
     ]
    }
   ],
   "source": [
    "print(interestingrows)"
   ]
  },
  {
   "cell_type": "code",
   "execution_count": 32,
   "metadata": {},
   "outputs": [
    {
     "name": "stdout",
     "output_type": "stream",
     "text": [
      "Please enter the number of puzzle (1-1000,000): 1\n",
      "0\n"
     ]
    }
   ],
   "source": [
    "user_input = input(\"Please enter the number of puzzle (1-1000,000): \")\n",
    "(q,s) = import_puzzle(int(user_input))\n",
    "print(q)"
   ]
  },
  {
   "cell_type": "code",
   "execution_count": 37,
   "metadata": {},
   "outputs": [
    {
     "ename": "SyntaxError",
     "evalue": "Missing parentheses in call to 'print'. Did you mean print(row[9])? (<ipython-input-37-b8da24ba85e9>, line 4)",
     "output_type": "error",
     "traceback": [
      "\u001b[1;36m  File \u001b[1;32m\"<ipython-input-37-b8da24ba85e9>\"\u001b[1;36m, line \u001b[1;32m4\u001b[0m\n\u001b[1;33m    print row[9]\u001b[0m\n\u001b[1;37m            ^\u001b[0m\n\u001b[1;31mSyntaxError\u001b[0m\u001b[1;31m:\u001b[0m Missing parentheses in call to 'print'. Did you mean print(row[9])?\n"
     ]
    }
   ],
   "source": [
    "with open('bigfile.csv','rb') as longishfile:\n",
    "    reader=csv.reader(longishfile)\n",
    "    rows=[r for r in reader]\n",
    "print row[9]\n",
    "print row[88]"
   ]
  },
  {
   "cell_type": "code",
   "execution_count": 42,
   "metadata": {},
   "outputs": [
    {
     "name": "stdout",
     "output_type": "stream",
     "text": [
      "['503070190000006750047190600400038000950200300000010072000804001300001860086720005', '563472198219386754847195623472638519951247386638519472795864231324951867186723945']\n"
     ]
    }
   ],
   "source": [
    "with open('sudoku.csv','rt', encoding='utf-8') as longishfile:\n",
    "    reader=csv.reader(longishfile)\n",
    "    rows=list(reader)\n",
    "print(rows[9])\n",
    "# print row[88]"
   ]
  },
  {
   "cell_type": "code",
   "execution_count": 41,
   "metadata": {},
   "outputs": [
    {
     "ename": "Error",
     "evalue": "iterator should return strings, not bytes (did you open the file in text mode?)",
     "output_type": "error",
     "traceback": [
      "\u001b[1;31m---------------------------------------------------------------------------\u001b[0m",
      "\u001b[1;31mError\u001b[0m                                     Traceback (most recent call last)",
      "\u001b[1;32m<ipython-input-41-2c4d80861d0a>\u001b[0m in \u001b[0;36m<module>\u001b[1;34m()\u001b[0m\n\u001b[0;32m      2\u001b[0m     \u001b[0mr\u001b[0m \u001b[1;33m=\u001b[0m \u001b[0mcsv\u001b[0m\u001b[1;33m.\u001b[0m\u001b[0mreader\u001b[0m\u001b[1;33m(\u001b[0m\u001b[0minfile\u001b[0m\u001b[1;33m)\u001b[0m\u001b[1;33m\u001b[0m\u001b[0m\n\u001b[0;32m      3\u001b[0m     \u001b[1;32mfor\u001b[0m \u001b[0mi\u001b[0m \u001b[1;32min\u001b[0m \u001b[0mrange\u001b[0m\u001b[1;33m(\u001b[0m\u001b[1;36m8\u001b[0m\u001b[1;33m)\u001b[0m\u001b[1;33m:\u001b[0m \u001b[1;31m# count from 0 to 7\u001b[0m\u001b[1;33m\u001b[0m\u001b[0m\n\u001b[1;32m----> 4\u001b[1;33m         \u001b[0mnext\u001b[0m\u001b[1;33m(\u001b[0m\u001b[0mr\u001b[0m\u001b[1;33m)\u001b[0m     \u001b[1;31m# and discard the rows\u001b[0m\u001b[1;33m\u001b[0m\u001b[0m\n\u001b[0m\u001b[0;32m      5\u001b[0m     \u001b[0mrow\u001b[0m \u001b[1;33m=\u001b[0m \u001b[0mnext\u001b[0m\u001b[1;33m(\u001b[0m\u001b[0mr\u001b[0m\u001b[1;33m)\u001b[0m   \u001b[1;31m# \"row\" contains row number 9 now\u001b[0m\u001b[1;33m\u001b[0m\u001b[0m\n",
      "\u001b[1;31mError\u001b[0m: iterator should return strings, not bytes (did you open the file in text mode?)"
     ]
    }
   ],
   "source": [
    "with open(\"sudoku.csv\", \"rb\") as infile:\n",
    "    r = csv.reader(infile)\n",
    "    for i in range(8): # count from 0 to 7\n",
    "        next(r)     # and discard the rows\n",
    "    row = next(r)   # \"row\" contains row number 9 now"
   ]
  },
  {
   "cell_type": "code",
   "execution_count": 28,
   "metadata": {},
   "outputs": [],
   "source": [
    "def display(values):\n",
    "    \"Display these values as a 2-D grid.\"\n",
    "    width = 1+max(len(values[s]) for s in squares)\n",
    "    line = '+'.join(['-'*(width*3)]*3)\n",
    "    for r in rows:\n",
    "        print(''.join(values[r+c].center(width)+('|' if c in '36' else ''))\n",
    "                      for c in cols)\n",
    "        if r in 'CF': print(line)\n",
    "    print"
   ]
  },
  {
   "cell_type": "code",
   "execution_count": null,
   "metadata": {
    "collapsed": true
   },
   "outputs": [],
   "source": []
  },
  {
   "cell_type": "code",
   "execution_count": null,
   "metadata": {
    "collapsed": true
   },
   "outputs": [],
   "source": []
  },
  {
   "cell_type": "code",
   "execution_count": null,
   "metadata": {
    "collapsed": true
   },
   "outputs": [],
   "source": []
  },
  {
   "cell_type": "code",
   "execution_count": 12,
   "metadata": {},
   "outputs": [
    {
     "name": "stdout",
     "output_type": "stream",
     "text": [
      "Please enter your name: 1\n"
     ]
    }
   ],
   "source": []
  },
  {
   "cell_type": "code",
   "execution_count": null,
   "metadata": {
    "collapsed": true
   },
   "outputs": [],
   "source": []
  },
  {
   "cell_type": "code",
   "execution_count": 20,
   "metadata": {},
   "outputs": [
    {
     "data": {
      "text/plain": [
       "array([[[0, 0, 4, 3, 0, 0, 2, 0, 9],\n",
       "        [0, 0, 5, 0, 0, 9, 0, 0, 1],\n",
       "        [0, 7, 0, 0, 6, 0, 0, 4, 3],\n",
       "        [0, 0, 6, 0, 0, 2, 0, 8, 7],\n",
       "        [1, 9, 0, 0, 0, 7, 4, 0, 0],\n",
       "        [0, 5, 0, 0, 8, 3, 0, 0, 0],\n",
       "        [6, 0, 0, 0, 0, 0, 1, 0, 5],\n",
       "        [0, 0, 3, 5, 0, 8, 6, 9, 0],\n",
       "        [0, 4, 2, 9, 1, 0, 3, 0, 0]],\n",
       "\n",
       "       [[0, 4, 0, 1, 0, 0, 0, 5, 0],\n",
       "        [1, 0, 7, 0, 0, 3, 9, 6, 0],\n",
       "        [5, 2, 0, 0, 0, 8, 0, 0, 0],\n",
       "        [0, 0, 0, 0, 0, 0, 0, 1, 7],\n",
       "        [0, 0, 0, 9, 0, 6, 8, 0, 0],\n",
       "        [8, 0, 3, 0, 5, 0, 6, 2, 0],\n",
       "        [0, 9, 0, 0, 6, 0, 5, 4, 3],\n",
       "        [6, 0, 0, 0, 8, 0, 7, 0, 0],\n",
       "        [2, 5, 0, 0, 9, 7, 1, 0, 0]]])"
      ]
     },
     "execution_count": 20,
     "metadata": {},
     "output_type": "execute_result"
    }
   ],
   "source": [
    "quizzes"
   ]
  },
  {
   "cell_type": "code",
   "execution_count": 4,
   "metadata": {},
   "outputs": [
    {
     "data": {
      "text/plain": [
       "array([[[8, 6, 4, 3, 7, 1, 2, 5, 9],\n",
       "        [3, 2, 5, 8, 4, 9, 7, 6, 1],\n",
       "        [9, 7, 1, 2, 6, 5, 8, 4, 3],\n",
       "        [4, 3, 6, 1, 9, 2, 5, 8, 7],\n",
       "        [1, 9, 8, 6, 5, 7, 4, 3, 2],\n",
       "        [2, 5, 7, 4, 8, 3, 9, 1, 6],\n",
       "        [6, 8, 9, 7, 3, 4, 1, 2, 5],\n",
       "        [7, 1, 3, 5, 2, 8, 6, 9, 4],\n",
       "        [5, 4, 2, 9, 1, 6, 3, 7, 8]],\n",
       "\n",
       "       [[3, 4, 6, 1, 7, 9, 2, 5, 8],\n",
       "        [1, 8, 7, 5, 2, 3, 9, 6, 4],\n",
       "        [5, 2, 9, 6, 4, 8, 3, 7, 1],\n",
       "        [9, 6, 5, 8, 3, 2, 4, 1, 7],\n",
       "        [4, 7, 2, 9, 1, 6, 8, 3, 5],\n",
       "        [8, 1, 3, 7, 5, 4, 6, 2, 9],\n",
       "        [7, 9, 8, 2, 6, 1, 5, 4, 3],\n",
       "        [6, 3, 1, 4, 8, 5, 7, 9, 2],\n",
       "        [2, 5, 4, 3, 9, 7, 1, 8, 6]]])"
      ]
     },
     "execution_count": 4,
     "metadata": {},
     "output_type": "execute_result"
    }
   ],
   "source": [
    "solutions"
   ]
  },
  {
   "cell_type": "code",
   "execution_count": 5,
   "metadata": {},
   "outputs": [
    {
     "data": {
      "text/plain": [
       "array([[0, 4, 0, 1, 0, 0, 0, 5, 0],\n",
       "       [1, 0, 7, 0, 0, 3, 9, 6, 0],\n",
       "       [5, 2, 0, 0, 0, 8, 0, 0, 0],\n",
       "       [0, 0, 0, 0, 0, 0, 0, 1, 7],\n",
       "       [0, 0, 0, 9, 0, 6, 8, 0, 0],\n",
       "       [8, 0, 3, 0, 5, 0, 6, 2, 0],\n",
       "       [0, 9, 0, 0, 6, 0, 5, 4, 3],\n",
       "       [6, 0, 0, 0, 8, 0, 7, 0, 0],\n",
       "       [2, 5, 0, 0, 9, 7, 1, 0, 0]])"
      ]
     },
     "execution_count": 5,
     "metadata": {},
     "output_type": "execute_result"
    }
   ],
   "source": [
    "quizzes[1]"
   ]
  },
  {
   "cell_type": "code",
   "execution_count": null,
   "metadata": {
    "collapsed": true
   },
   "outputs": [],
   "source": []
  },
  {
   "cell_type": "code",
   "execution_count": null,
   "metadata": {
    "collapsed": true
   },
   "outputs": [],
   "source": [
    "import sys\n",
    "\n",
    "def same_row(i,j): return (i/9 == j/9)\n",
    "def same_col(i,j): return (i-j) % 9 == 0\n",
    "def same_block(i,j): return (i/27 == j/27 and i%9/3 == j%9/3)\n",
    "\n",
    "def r(a):\n",
    "  i = a.find('0')\n",
    "  if i == -1:\n",
    "    sys.exit(a)\n",
    "\n",
    "  excluded_numbers = set()\n",
    "  for j in range(81):\n",
    "    if same_row(i,j) or same_col(i,j) or same_block(i,j):\n",
    "      excluded_numbers.add(a[j])\n",
    "\n",
    "  for m in '123456789':\n",
    "    if m not in excluded_numbers:\n",
    "      r(a[:i]+m+a[i+1:])\n",
    "\n",
    "if __name__ == '__main__':\n",
    "  if len(sys.argv) == 2 and len(sys.argv[1]) == 81:\n",
    "    r(sys.argv[1])\n",
    "  else:\n",
    "    print 'Usage: python sudoku.py puzzle'\n",
    "    print '  where puzzle is an 81 character string \n",
    "             representing the puzzle read left-to-right,\n",
    "             top-to-bottom, and 0 is a blank'"
   ]
  },
  {
   "cell_type": "code",
   "execution_count": null,
   "metadata": {
    "collapsed": true
   },
   "outputs": [],
   "source": []
  },
  {
   "cell_type": "code",
   "execution_count": null,
   "metadata": {
    "collapsed": true
   },
   "outputs": [],
   "source": []
  },
  {
   "cell_type": "code",
   "execution_count": null,
   "metadata": {
    "collapsed": true
   },
   "outputs": [],
   "source": []
  },
  {
   "cell_type": "code",
   "execution_count": null,
   "metadata": {
    "collapsed": true
   },
   "outputs": [],
   "source": []
  },
  {
   "cell_type": "code",
   "execution_count": null,
   "metadata": {
    "collapsed": true
   },
   "outputs": [],
   "source": []
  },
  {
   "cell_type": "code",
   "execution_count": null,
   "metadata": {
    "collapsed": true
   },
   "outputs": [],
   "source": []
  }
 ],
 "metadata": {
  "kernelspec": {
   "display_name": "Python 3",
   "language": "python",
   "name": "python3"
  },
  "language_info": {
   "codemirror_mode": {
    "name": "ipython",
    "version": 3
   },
   "file_extension": ".py",
   "mimetype": "text/x-python",
   "name": "python",
   "nbconvert_exporter": "python",
   "pygments_lexer": "ipython3",
   "version": "3.6.3"
  }
 },
 "nbformat": 4,
 "nbformat_minor": 2
}
